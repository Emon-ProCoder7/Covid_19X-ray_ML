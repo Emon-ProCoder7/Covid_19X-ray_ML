{
 "cells": [
  {
   "cell_type": "markdown",
   "metadata": {
    "colab_type": "text",
    "id": "OQi3X7TNUl5Y"
   },
   "source": [
    "# **Cheminformatics in Python: Molecules Solubility Prediction Model** "
   ]
  },
  {
   "cell_type": "markdown",
   "metadata": {},
   "source": [
    " "
   ]
  },
  {
   "cell_type": "markdown",
   "metadata": {},
   "source": [
    " "
   ]
  },
  {
   "cell_type": "markdown",
   "metadata": {
    "colab_type": "text",
    "id": "OQi3X7TNUl5Y"
   },
   "source": [
    "In this notebook, I will dive into the world of Cheminformatics which lies at the interface of Informatics and Chemistry. I've reproduced a research article (by [John S. Delaney](https://pubs.acs.org/doi/10.1021/ci034243x)$^1$) by applying Linear Regression to predict the solubility of molecules (i.e. solubility of drugs is an important physicochemical property in Drug discovery, design and development)."
   ]
  },
  {
   "cell_type": "markdown",
   "metadata": {},
   "source": [
    " "
   ]
  },
  {
   "cell_type": "markdown",
   "metadata": {},
   "source": [
    " "
   ]
  },
  {
   "cell_type": "markdown",
   "metadata": {},
   "source": [
    "- I have done several regression classification projects with same and advanced perception as well, in the past. You can check my other Machine Learning Regression classifier Projects [Here](https://emon-procoder7.github.io/Machine-Learning-Projects/) 👈🏻"
   ]
  },
  {
   "cell_type": "markdown",
   "metadata": {},
   "source": [
    " "
   ]
  },
  {
   "cell_type": "markdown",
   "metadata": {},
   "source": [
    " "
   ]
  },
  {
   "cell_type": "markdown",
   "metadata": {
    "colab_type": "text",
    "id": "AQW_Ts66R4Ms"
   },
   "source": [
    "## **Installation of rdkit**\n",
    "\n",
    "Rdkit is a library that has built in smiles to molecule coverter, as well as easy to work with Descriptor classes. Here I've installed conda and installed RdKit with conda manager "
   ]
  },
  {
   "cell_type": "markdown",
   "metadata": {},
   "source": [
    " "
   ]
  },
  {
   "cell_type": "code",
   "execution_count": null,
   "metadata": {
    "colab": {
     "base_uri": "https://localhost:8080/",
     "height": 1000
    },
    "colab_type": "code",
    "executionInfo": {
     "elapsed": 95488,
     "status": "ok",
     "timestamp": 1598431738859,
     "user": {
      "displayName": "Emon Returns",
      "photoUrl": "https://lh3.googleusercontent.com/a-/AOh14GjadExHTUqXI-S_HQCl0Xsm-fUD1-10lewUWP2r=s64",
      "userId": "12373052627599554892"
     },
     "user_tz": -360
    },
    "id": "-jNwdYoBR8ea",
    "outputId": "a2271308-085d-468f-f063-f0bf75224626"
   },
   "outputs": [],
   "source": [
    "! wget https://repo.anaconda.com/miniconda/Miniconda3-py37_4.8.2-Linux-x86_64.sh\n",
    "! chmod +x Miniconda3-py37_4.8.2-Linux-x86_64.sh\n",
    "! bash ./Miniconda3-py37_4.8.2-Linux-x86_64.sh -b -f -p /usr/local\n",
    "! conda install -c rdkit rdkit -y\n",
    "import sys\n",
    "sys.path.append('/usr/local/lib/python3.7/site-packages/')"
   ]
  },
  {
   "cell_type": "markdown",
   "metadata": {},
   "source": [
    " "
   ]
  },
  {
   "cell_type": "markdown",
   "metadata": {},
   "source": [
    " "
   ]
  },
  {
   "cell_type": "markdown",
   "metadata": {
    "colab_type": "text",
    "id": "H661uGwCNFMC"
   },
   "source": [
    "## **Solubility dataset**\n",
    "\n",
    "The original [Delaney's dataset](https://pubs.acs.org/doi/10.1021/ci034243x) available as a [Supplementary file](https://pubs.acs.org/doi/10.1021/ci034243x). The full paper is entitled [ESOL:  Estimating Aqueous Solubility Directly from Molecular Structure](https://pubs.acs.org/doi/10.1021/ci034243x).$^1$"
   ]
  },
  {
   "cell_type": "markdown",
   "metadata": {},
   "source": [
    " "
   ]
  },
  {
   "cell_type": "markdown",
   "metadata": {
    "colab_type": "text",
    "id": "s6o9QzQnNRVx"
   },
   "source": [
    "### **Downloading the dataset**"
   ]
  },
  {
   "cell_type": "code",
   "execution_count": 2,
   "metadata": {
    "colab": {
     "base_uri": "https://localhost:8080/",
     "height": 360
    },
    "colab_type": "code",
    "executionInfo": {
     "elapsed": 1619,
     "status": "ok",
     "timestamp": 1598431168500,
     "user": {
      "displayName": "Emon Returns",
      "photoUrl": "https://lh3.googleusercontent.com/a-/AOh14GjadExHTUqXI-S_HQCl0Xsm-fUD1-10lewUWP2r=s64",
      "userId": "12373052627599554892"
     },
     "user_tz": -360
    },
    "id": "6KKvV74LM1it",
    "outputId": "e2451650-ae09-4015-ca43-9c7c3c8b08ac"
   },
   "outputs": [
    {
     "name": "stdout",
     "output_type": "stream",
     "text": [
      "--2020-08-26 08:39:27--  https://pubs.acs.org/doi/suppl/10.1021/ci034243x/suppl_file/ci034243xsi20040112_053635.txt\n",
      "Resolving pubs.acs.org (pubs.acs.org)... 104.18.1.20, 104.18.0.20\n",
      "Connecting to pubs.acs.org (pubs.acs.org)|104.18.1.20|:443... connected.\n",
      "HTTP request sent, awaiting response... 302 Found\n",
      "Location: https://pubs.acs.org/doi/suppl/10.1021/ci034243x/suppl_file/ci034243xsi20040112_053635.txt?cookieSet=1 [following]\n",
      "--2020-08-26 08:39:27--  https://pubs.acs.org/doi/suppl/10.1021/ci034243x/suppl_file/ci034243xsi20040112_053635.txt?cookieSet=1\n",
      "Reusing existing connection to pubs.acs.org:443.\n",
      "HTTP request sent, awaiting response... 302 Found\n",
      "Location: https://pubs.acs.org/doi/suppl/10.1021/ci034243x/suppl_file/ci034243xsi20040112_053635.txt [following]\n",
      "--2020-08-26 08:39:27--  https://pubs.acs.org/doi/suppl/10.1021/ci034243x/suppl_file/ci034243xsi20040112_053635.txt\n",
      "Reusing existing connection to pubs.acs.org:443.\n",
      "HTTP request sent, awaiting response... 200 OK\n",
      "Length: 60034 (59K) [text/plain]\n",
      "Saving to: ‘ci034243xsi20040112_053635.txt’\n",
      "\n",
      "ci034243xsi20040112 100%[===================>]  58.63K  --.-KB/s    in 0.003s  \n",
      "\n",
      "2020-08-26 08:39:28 (18.1 MB/s) - ‘ci034243xsi20040112_053635.txt’ saved [60034/60034]\n",
      "\n"
     ]
    }
   ],
   "source": [
    "! wget https://pubs.acs.org/doi/suppl/10.1021/ci034243x/suppl_file/ci034243xsi20040112_053635.txt"
   ]
  },
  {
   "cell_type": "markdown",
   "metadata": {},
   "source": [
    " "
   ]
  },
  {
   "cell_type": "markdown",
   "metadata": {
    "colab_type": "text",
    "id": "PJGp_xenNYKy"
   },
   "source": [
    "### **Reading in the dataset**"
   ]
  },
  {
   "cell_type": "code",
   "execution_count": 4,
   "metadata": {
    "colab": {},
    "colab_type": "code",
    "executionInfo": {
     "elapsed": 1168,
     "status": "ok",
     "timestamp": 1598431463973,
     "user": {
      "displayName": "Emon Returns",
      "photoUrl": "https://lh3.googleusercontent.com/a-/AOh14GjadExHTUqXI-S_HQCl0Xsm-fUD1-10lewUWP2r=s64",
      "userId": "12373052627599554892"
     },
     "user_tz": -360
    },
    "id": "0ufiOpEbNooH"
   },
   "outputs": [],
   "source": [
    "import pandas as pd"
   ]
  },
  {
   "cell_type": "code",
   "execution_count": 5,
   "metadata": {
    "colab": {
     "base_uri": "https://localhost:8080/",
     "height": 504
    },
    "colab_type": "code",
    "executionInfo": {
     "elapsed": 1271,
     "status": "ok",
     "timestamp": 1598431466293,
     "user": {
      "displayName": "Emon Returns",
      "photoUrl": "https://lh3.googleusercontent.com/a-/AOh14GjadExHTUqXI-S_HQCl0Xsm-fUD1-10lewUWP2r=s64",
      "userId": "12373052627599554892"
     },
     "user_tz": -360
    },
    "id": "nLS6bwiRNtuV",
    "outputId": "108f3b92-81c5-4ddd-e503-66635586c094"
   },
   "outputs": [
    {
     "data": {
      "text/html": [
       "<div>\n",
       "<style scoped>\n",
       "    .dataframe tbody tr th:only-of-type {\n",
       "        vertical-align: middle;\n",
       "    }\n",
       "\n",
       "    .dataframe tbody tr th {\n",
       "        vertical-align: top;\n",
       "    }\n",
       "\n",
       "    .dataframe thead th {\n",
       "        text-align: right;\n",
       "    }\n",
       "</style>\n",
       "<table border=\"1\" class=\"dataframe\">\n",
       "  <thead>\n",
       "    <tr style=\"text-align: right;\">\n",
       "      <th></th>\n",
       "      <th>Compound ID</th>\n",
       "      <th>measured log(solubility:mol/L)</th>\n",
       "      <th>ESOL predicted log(solubility:mol/L)</th>\n",
       "      <th>SMILES</th>\n",
       "    </tr>\n",
       "  </thead>\n",
       "  <tbody>\n",
       "    <tr>\n",
       "      <th>0</th>\n",
       "      <td>1,1,1,2-Tetrachloroethane</td>\n",
       "      <td>-2.180</td>\n",
       "      <td>-2.794</td>\n",
       "      <td>ClCC(Cl)(Cl)Cl</td>\n",
       "    </tr>\n",
       "    <tr>\n",
       "      <th>1</th>\n",
       "      <td>1,1,1-Trichloroethane</td>\n",
       "      <td>-2.000</td>\n",
       "      <td>-2.232</td>\n",
       "      <td>CC(Cl)(Cl)Cl</td>\n",
       "    </tr>\n",
       "    <tr>\n",
       "      <th>2</th>\n",
       "      <td>1,1,2,2-Tetrachloroethane</td>\n",
       "      <td>-1.740</td>\n",
       "      <td>-2.549</td>\n",
       "      <td>ClC(Cl)C(Cl)Cl</td>\n",
       "    </tr>\n",
       "    <tr>\n",
       "      <th>3</th>\n",
       "      <td>1,1,2-Trichloroethane</td>\n",
       "      <td>-1.480</td>\n",
       "      <td>-1.961</td>\n",
       "      <td>ClCC(Cl)Cl</td>\n",
       "    </tr>\n",
       "    <tr>\n",
       "      <th>4</th>\n",
       "      <td>1,1,2-Trichlorotrifluoroethane</td>\n",
       "      <td>-3.040</td>\n",
       "      <td>-3.077</td>\n",
       "      <td>FC(F)(Cl)C(F)(Cl)Cl</td>\n",
       "    </tr>\n",
       "    <tr>\n",
       "      <th>...</th>\n",
       "      <td>...</td>\n",
       "      <td>...</td>\n",
       "      <td>...</td>\n",
       "      <td>...</td>\n",
       "    </tr>\n",
       "    <tr>\n",
       "      <th>1139</th>\n",
       "      <td>vamidothion</td>\n",
       "      <td>1.144</td>\n",
       "      <td>-1.446</td>\n",
       "      <td>CNC(=O)C(C)SCCSP(=O)(OC)(OC)</td>\n",
       "    </tr>\n",
       "    <tr>\n",
       "      <th>1140</th>\n",
       "      <td>Vinclozolin</td>\n",
       "      <td>-4.925</td>\n",
       "      <td>-4.377</td>\n",
       "      <td>CC1(OC(=O)N(C1=O)c2cc(Cl)cc(Cl)c2)C=C</td>\n",
       "    </tr>\n",
       "    <tr>\n",
       "      <th>1141</th>\n",
       "      <td>Warfarin</td>\n",
       "      <td>-3.893</td>\n",
       "      <td>-3.913</td>\n",
       "      <td>CC(=O)CC(c1ccccc1)c3c(O)c2ccccc2oc3=O</td>\n",
       "    </tr>\n",
       "    <tr>\n",
       "      <th>1142</th>\n",
       "      <td>Xipamide</td>\n",
       "      <td>-3.790</td>\n",
       "      <td>-3.642</td>\n",
       "      <td>Cc1cccc(C)c1NC(=O)c2cc(c(Cl)cc2O)S(N)(=O)=O</td>\n",
       "    </tr>\n",
       "    <tr>\n",
       "      <th>1143</th>\n",
       "      <td>XMC</td>\n",
       "      <td>-2.581</td>\n",
       "      <td>-2.688</td>\n",
       "      <td>CNC(=O)Oc1cc(C)cc(C)c1</td>\n",
       "    </tr>\n",
       "  </tbody>\n",
       "</table>\n",
       "<p>1144 rows × 4 columns</p>\n",
       "</div>"
      ],
      "text/plain": [
       "                         Compound ID  ...                                       SMILES\n",
       "0          1,1,1,2-Tetrachloroethane  ...                               ClCC(Cl)(Cl)Cl\n",
       "1              1,1,1-Trichloroethane  ...                                 CC(Cl)(Cl)Cl\n",
       "2          1,1,2,2-Tetrachloroethane  ...                               ClC(Cl)C(Cl)Cl\n",
       "3              1,1,2-Trichloroethane  ...                                   ClCC(Cl)Cl\n",
       "4     1,1,2-Trichlorotrifluoroethane  ...                          FC(F)(Cl)C(F)(Cl)Cl\n",
       "...                              ...  ...                                          ...\n",
       "1139                     vamidothion  ...                 CNC(=O)C(C)SCCSP(=O)(OC)(OC)\n",
       "1140                     Vinclozolin  ...        CC1(OC(=O)N(C1=O)c2cc(Cl)cc(Cl)c2)C=C\n",
       "1141                        Warfarin  ...       CC(=O)CC(c1ccccc1)c3c(O)c2ccccc2oc3=O \n",
       "1142                        Xipamide  ...  Cc1cccc(C)c1NC(=O)c2cc(c(Cl)cc2O)S(N)(=O)=O\n",
       "1143                             XMC  ...                       CNC(=O)Oc1cc(C)cc(C)c1\n",
       "\n",
       "[1144 rows x 4 columns]"
      ]
     },
     "execution_count": 5,
     "metadata": {
      "tags": []
     },
     "output_type": "execute_result"
    }
   ],
   "source": [
    "sol = pd.read_csv('delaney.csv')\n",
    "sol"
   ]
  },
  {
   "cell_type": "markdown",
   "metadata": {
    "colab_type": "text",
    "id": "qQYE-jCRSmCn"
   },
   "source": [
    "---"
   ]
  },
  {
   "cell_type": "markdown",
   "metadata": {},
   "source": [
    " "
   ]
  },
  {
   "cell_type": "markdown",
   "metadata": {},
   "source": [
    " "
   ]
  },
  {
   "cell_type": "markdown",
   "metadata": {},
   "source": [
    " "
   ]
  },
  {
   "cell_type": "markdown",
   "metadata": {},
   "source": [
    " "
   ]
  },
  {
   "cell_type": "markdown",
   "metadata": {},
   "source": [
    " "
   ]
  },
  {
   "cell_type": "markdown",
   "metadata": {},
   "source": [
    " "
   ]
  },
  {
   "cell_type": "markdown",
   "metadata": {
    "colab_type": "text",
    "id": "cUzImGPEXZRn"
   },
   "source": [
    "### **Examining the SMILES data**"
   ]
  },
  {
   "cell_type": "markdown",
   "metadata": {
    "colab_type": "text",
    "id": "gGDLzIZmN5sJ"
   },
   "source": [
    "Chemical structures are encoded by a string of text known as **SMILES** which is an acronym for **Simplified Molecular-Input Line-Entry System**."
   ]
  },
  {
   "cell_type": "code",
   "execution_count": 6,
   "metadata": {
    "colab": {
     "base_uri": "https://localhost:8080/",
     "height": 221
    },
    "colab_type": "code",
    "executionInfo": {
     "elapsed": 1170,
     "status": "ok",
     "timestamp": 1598431483586,
     "user": {
      "displayName": "Emon Returns",
      "photoUrl": "https://lh3.googleusercontent.com/a-/AOh14GjadExHTUqXI-S_HQCl0Xsm-fUD1-10lewUWP2r=s64",
      "userId": "12373052627599554892"
     },
     "user_tz": -360
    },
    "id": "4pF777dmOOZ3",
    "outputId": "45381cb0-522b-449c-cf7c-6f53f6bd0b5e"
   },
   "outputs": [
    {
     "data": {
      "text/plain": [
       "0                                    ClCC(Cl)(Cl)Cl\n",
       "1                                      CC(Cl)(Cl)Cl\n",
       "2                                    ClC(Cl)C(Cl)Cl\n",
       "3                                        ClCC(Cl)Cl\n",
       "4                               FC(F)(Cl)C(F)(Cl)Cl\n",
       "                           ...                     \n",
       "1139                   CNC(=O)C(C)SCCSP(=O)(OC)(OC)\n",
       "1140          CC1(OC(=O)N(C1=O)c2cc(Cl)cc(Cl)c2)C=C\n",
       "1141         CC(=O)CC(c1ccccc1)c3c(O)c2ccccc2oc3=O \n",
       "1142    Cc1cccc(C)c1NC(=O)c2cc(c(Cl)cc2O)S(N)(=O)=O\n",
       "1143                         CNC(=O)Oc1cc(C)cc(C)c1\n",
       "Name: SMILES, Length: 1144, dtype: object"
      ]
     },
     "execution_count": 6,
     "metadata": {
      "tags": []
     },
     "output_type": "execute_result"
    }
   ],
   "source": [
    "sol.SMILES"
   ]
  },
  {
   "cell_type": "markdown",
   "metadata": {
    "colab_type": "text",
    "id": "qHlN5973X6bJ"
   },
   "source": [
    "The first element from the **SMILES** column of the **sol** dataframe."
   ]
  },
  {
   "cell_type": "code",
   "execution_count": 7,
   "metadata": {
    "colab": {
     "base_uri": "https://localhost:8080/",
     "height": 35
    },
    "colab_type": "code",
    "executionInfo": {
     "elapsed": 1122,
     "status": "ok",
     "timestamp": 1598431492552,
     "user": {
      "displayName": "Emon Returns",
      "photoUrl": "https://lh3.googleusercontent.com/a-/AOh14GjadExHTUqXI-S_HQCl0Xsm-fUD1-10lewUWP2r=s64",
      "userId": "12373052627599554892"
     },
     "user_tz": -360
    },
    "id": "jN0dzq9dXF5N",
    "outputId": "e763f649-14b5-4da1-bee8-47334a6d3467"
   },
   "outputs": [
    {
     "data": {
      "application/vnd.google.colaboratory.intrinsic+json": {
       "type": "string"
      },
      "text/plain": [
       "'ClCC(Cl)(Cl)Cl'"
      ]
     },
     "execution_count": 7,
     "metadata": {
      "tags": []
     },
     "output_type": "execute_result"
    }
   ],
   "source": [
    "sol.SMILES[0]"
   ]
  },
  {
   "cell_type": "markdown",
   "metadata": {},
   "source": [
    " "
   ]
  },
  {
   "cell_type": "markdown",
   "metadata": {},
   "source": [
    " "
   ]
  },
  {
   "cell_type": "markdown",
   "metadata": {},
   "source": [
    " "
   ]
  },
  {
   "cell_type": "markdown",
   "metadata": {},
   "source": [
    " "
   ]
  },
  {
   "cell_type": "markdown",
   "metadata": {
    "colab_type": "text",
    "id": "NO7tSBIeXQWk"
   },
   "source": [
    "### **Converting a molecule from the SMILES string to an rdkit object**"
   ]
  },
  {
   "cell_type": "code",
   "execution_count": 10,
   "metadata": {
    "colab": {},
    "colab_type": "code",
    "executionInfo": {
     "elapsed": 1121,
     "status": "ok",
     "timestamp": 1598431773085,
     "user": {
      "displayName": "Emon Returns",
      "photoUrl": "https://lh3.googleusercontent.com/a-/AOh14GjadExHTUqXI-S_HQCl0Xsm-fUD1-10lewUWP2r=s64",
      "userId": "12373052627599554892"
     },
     "user_tz": -360
    },
    "id": "BmlrBL_MOTkB"
   },
   "outputs": [],
   "source": [
    "from rdkit import Chem"
   ]
  },
  {
   "cell_type": "code",
   "execution_count": null,
   "metadata": {
    "colab": {
     "base_uri": "https://localhost:8080/",
     "height": 34
    },
    "colab_type": "code",
    "id": "0f9JLRD0XO85",
    "outputId": "15a5a16d-102d-406f-fd57-a986c4632827"
   },
   "outputs": [
    {
     "data": {
      "text/plain": [
       "<rdkit.Chem.rdchem.Mol at 0x7f66f2e3e800>"
      ]
     },
     "execution_count": 10,
     "metadata": {
      "tags": []
     },
     "output_type": "execute_result"
    }
   ],
   "source": [
    "Chem.MolFromSmiles(sol.SMILES[0])"
   ]
  },
  {
   "cell_type": "markdown",
   "metadata": {},
   "source": [
    "- As shown here with `MolFromSmiles` method of chem, smiles can be converted to RdKit object instance. "
   ]
  },
  {
   "cell_type": "markdown",
   "metadata": {},
   "source": [
    " "
   ]
  },
  {
   "cell_type": "markdown",
   "metadata": {},
   "source": [
    " "
   ]
  },
  {
   "cell_type": "markdown",
   "metadata": {},
   "source": [
    " "
   ]
  },
  {
   "cell_type": "markdown",
   "metadata": {
    "colab_type": "text",
    "id": "MCdX2GjXFG-A"
   },
   "source": [
    "### **Working with rdkit object**"
   ]
  },
  {
   "cell_type": "code",
   "execution_count": 11,
   "metadata": {
    "colab": {},
    "colab_type": "code",
    "executionInfo": {
     "elapsed": 3955,
     "status": "ok",
     "timestamp": 1598432211996,
     "user": {
      "displayName": "Emon Returns",
      "photoUrl": "https://lh3.googleusercontent.com/a-/AOh14GjadExHTUqXI-S_HQCl0Xsm-fUD1-10lewUWP2r=s64",
      "userId": "12373052627599554892"
     },
     "user_tz": -360
    },
    "id": "8_6xQmjHFOo1"
   },
   "outputs": [],
   "source": [
    "m = Chem.MolFromSmiles('ClCC(Cl)(Cl)Cl')"
   ]
  },
  {
   "cell_type": "code",
   "execution_count": 12,
   "metadata": {
    "colab": {
     "base_uri": "https://localhost:8080/",
     "height": 34
    },
    "colab_type": "code",
    "executionInfo": {
     "elapsed": 6691,
     "status": "ok",
     "timestamp": 1598432222358,
     "user": {
      "displayName": "Emon Returns",
      "photoUrl": "https://lh3.googleusercontent.com/a-/AOh14GjadExHTUqXI-S_HQCl0Xsm-fUD1-10lewUWP2r=s64",
      "userId": "12373052627599554892"
     },
     "user_tz": -360
    },
    "id": "3dn79-t4FLgT",
    "outputId": "11466743-6ffa-4aff-e4a8-fbdd10adaaee"
   },
   "outputs": [
    {
     "data": {
      "text/plain": [
       "6"
      ]
     },
     "execution_count": 12,
     "metadata": {
      "tags": []
     },
     "output_type": "execute_result"
    }
   ],
   "source": [
    "m.GetNumAtoms()"
   ]
  },
  {
   "cell_type": "markdown",
   "metadata": {},
   "source": [
    " "
   ]
  },
  {
   "cell_type": "markdown",
   "metadata": {},
   "source": [
    " "
   ]
  },
  {
   "cell_type": "markdown",
   "metadata": {},
   "source": [
    " "
   ]
  },
  {
   "cell_type": "markdown",
   "metadata": {
    "colab_type": "text",
    "id": "uqQLXGKQQAvX"
   },
   "source": [
    "## **Calculating molecular descriptors in rdkit**"
   ]
  },
  {
   "cell_type": "code",
   "execution_count": 13,
   "metadata": {
    "colab": {},
    "colab_type": "code",
    "executionInfo": {
     "elapsed": 2534,
     "status": "ok",
     "timestamp": 1598432253145,
     "user": {
      "displayName": "Emon Returns",
      "photoUrl": "https://lh3.googleusercontent.com/a-/AOh14GjadExHTUqXI-S_HQCl0Xsm-fUD1-10lewUWP2r=s64",
      "userId": "12373052627599554892"
     },
     "user_tz": -360
    },
    "id": "bQjMv-wLOlmg"
   },
   "outputs": [],
   "source": [
    "from rdkit import Chem"
   ]
  },
  {
   "cell_type": "code",
   "execution_count": 15,
   "metadata": {
    "colab": {},
    "colab_type": "code",
    "executionInfo": {
     "elapsed": 837,
     "status": "ok",
     "timestamp": 1598432335067,
     "user": {
      "displayName": "Emon Returns",
      "photoUrl": "https://lh3.googleusercontent.com/a-/AOh14GjadExHTUqXI-S_HQCl0Xsm-fUD1-10lewUWP2r=s64",
      "userId": "12373052627599554892"
     },
     "user_tz": -360
    },
    "id": "JisoMYFgka_p"
   },
   "outputs": [],
   "source": [
    "mol_list= []\n",
    "for element in sol.SMILES:\n",
    "  mol = Chem.MolFromSmiles(element)\n",
    "  mol_list.append(mol)"
   ]
  },
  {
   "cell_type": "code",
   "execution_count": 16,
   "metadata": {
    "colab": {
     "base_uri": "https://localhost:8080/",
     "height": 34
    },
    "colab_type": "code",
    "executionInfo": {
     "elapsed": 1122,
     "status": "ok",
     "timestamp": 1598432338503,
     "user": {
      "displayName": "Emon Returns",
      "photoUrl": "https://lh3.googleusercontent.com/a-/AOh14GjadExHTUqXI-S_HQCl0Xsm-fUD1-10lewUWP2r=s64",
      "userId": "12373052627599554892"
     },
     "user_tz": -360
    },
    "id": "ZL7fG5Aok0Gh",
    "outputId": "7f96141c-a879-4b0a-a0ef-825fe97d95d8"
   },
   "outputs": [
    {
     "data": {
      "text/plain": [
       "1144"
      ]
     },
     "execution_count": 16,
     "metadata": {
      "tags": []
     },
     "output_type": "execute_result"
    }
   ],
   "source": [
    "len(mol_list)"
   ]
  },
  {
   "cell_type": "code",
   "execution_count": 17,
   "metadata": {
    "colab": {
     "base_uri": "https://localhost:8080/",
     "height": 102
    },
    "colab_type": "code",
    "executionInfo": {
     "elapsed": 1092,
     "status": "ok",
     "timestamp": 1598432343993,
     "user": {
      "displayName": "Emon Returns",
      "photoUrl": "https://lh3.googleusercontent.com/a-/AOh14GjadExHTUqXI-S_HQCl0Xsm-fUD1-10lewUWP2r=s64",
      "userId": "12373052627599554892"
     },
     "user_tz": -360
    },
    "id": "WiGYdtPUk3hV",
    "outputId": "c9f9f232-0a87-42dc-998b-c1078ccf56c5"
   },
   "outputs": [
    {
     "data": {
      "text/plain": [
       "[<rdkit.Chem.rdchem.Mol at 0x7fd1df883b20>,\n",
       " <rdkit.Chem.rdchem.Mol at 0x7fd1df883ad0>,\n",
       " <rdkit.Chem.rdchem.Mol at 0x7fd1df8839e0>,\n",
       " <rdkit.Chem.rdchem.Mol at 0x7fd1df883b70>,\n",
       " <rdkit.Chem.rdchem.Mol at 0x7fd1df883bc0>]"
      ]
     },
     "execution_count": 17,
     "metadata": {
      "tags": []
     },
     "output_type": "execute_result"
    }
   ],
   "source": [
    "mol_list[:5]"
   ]
  },
  {
   "cell_type": "markdown",
   "metadata": {},
   "source": [
    " "
   ]
  },
  {
   "cell_type": "markdown",
   "metadata": {
    "colab_type": "text",
    "id": "qQYE-jCRSmCn"
   },
   "source": [
    "---"
   ]
  },
  {
   "cell_type": "markdown",
   "metadata": {},
   "source": [
    " "
   ]
  },
  {
   "cell_type": "markdown",
   "metadata": {},
   "source": [
    " "
   ]
  },
  {
   "cell_type": "markdown",
   "metadata": {},
   "source": [
    "<h3 align = \"center\">Compound Descriptors</h3>"
   ]
  },
  {
   "cell_type": "markdown",
   "metadata": {},
   "source": [
    " "
   ]
  },
  {
   "cell_type": "markdown",
   "metadata": {},
   "source": [
    " "
   ]
  },
  {
   "cell_type": "markdown",
   "metadata": {},
   "source": [
    " "
   ]
  },
  {
   "cell_type": "markdown",
   "metadata": {
    "colab_type": "text",
    "id": "olyPX1TjQMvr"
   },
   "source": [
    "### **Calculating Molecular Descriptors**\n",
    "\n",
    "To predict **LogS** (log of the aqueous solubility), the study by Delaney makes use of 4 molecular descriptors:\n",
    "1. **cLogP** *(Octanol-water partition coefficient)*\n",
    "2. **MW** *(Molecular weight)*\n",
    "3. **RB** *(Number of rotatable bonds)*\n",
    "4. **AP** *(Aromatic proportion = number of aromatic atoms / total number of heavy atoms)*\n",
    "\n",
    "Unfortunately, rdkit readily computes the first 3. As for the AP descriptor, I will calculate this by manually computing the ratio of the *number of aromatic atoms* to the *total number of heavy atoms* which rdkit can compute."
   ]
  },
  {
   "cell_type": "markdown",
   "metadata": {},
   "source": [
    " "
   ]
  },
  {
   "cell_type": "markdown",
   "metadata": {},
   "source": [
    " "
   ]
  },
  {
   "cell_type": "markdown",
   "metadata": {},
   "source": [
    " "
   ]
  },
  {
   "cell_type": "markdown",
   "metadata": {
    "colab_type": "text",
    "id": "k4fqhekzCB-X"
   },
   "source": [
    "#### **LogP, MW and RB**"
   ]
  },
  {
   "cell_type": "code",
   "execution_count": 18,
   "metadata": {
    "colab": {},
    "colab_type": "code",
    "executionInfo": {
     "elapsed": 1157,
     "status": "ok",
     "timestamp": 1598437235933,
     "user": {
      "displayName": "Emon Returns",
      "photoUrl": "https://lh3.googleusercontent.com/a-/AOh14GjadExHTUqXI-S_HQCl0Xsm-fUD1-10lewUWP2r=s64",
      "userId": "12373052627599554892"
     },
     "user_tz": -360
    },
    "id": "iS4w5r5ocxT8"
   },
   "outputs": [],
   "source": [
    "import numpy as np\n",
    "from rdkit.Chem import Descriptors"
   ]
  },
  {
   "cell_type": "code",
   "execution_count": 20,
   "metadata": {
    "colab": {},
    "colab_type": "code",
    "executionInfo": {
     "elapsed": 1335,
     "status": "ok",
     "timestamp": 1598437262496,
     "user": {
      "displayName": "Emon Returns",
      "photoUrl": "https://lh3.googleusercontent.com/a-/AOh14GjadExHTUqXI-S_HQCl0Xsm-fUD1-10lewUWP2r=s64",
      "userId": "12373052627599554892"
     },
     "user_tz": -360
    },
    "id": "WkNMPVu_giw8"
   },
   "outputs": [],
   "source": [
    "# Inspired by: https://codeocean.com/explore/capsules?query=tag:data-curation\n",
    "\n",
    "def generate(smiles, verbose=False):\n",
    "\n",
    "    moldata= []\n",
    "    for elem in smiles:\n",
    "        mol=Chem.MolFromSmiles(elem) \n",
    "        moldata.append(mol)\n",
    "       \n",
    "    baseData= np.arange(1,1)\n",
    "    i=0  \n",
    "    for mol in moldata:        \n",
    "       \n",
    "        desc_MolLogP = Descriptors.MolLogP(mol)\n",
    "        desc_MolWt = Descriptors.MolWt(mol)\n",
    "        desc_NumRotatableBonds = Descriptors.NumRotatableBonds(mol)\n",
    "           \n",
    "        row = np.array([desc_MolLogP,\n",
    "                        desc_MolWt,\n",
    "                        desc_NumRotatableBonds])   \n",
    "    \n",
    "        if(i==0):\n",
    "            baseData=row\n",
    "        else:\n",
    "            baseData=np.vstack([baseData, row])\n",
    "        i=i+1      \n",
    "    \n",
    "    columnNames=[\"MolLogP\",\"MolWt\",\"NumRotatableBonds\"]   \n",
    "    descriptors = pd.DataFrame(data=baseData,columns=columnNames)\n",
    "    \n",
    "    return descriptors"
   ]
  },
  {
   "cell_type": "code",
   "execution_count": 22,
   "metadata": {
    "colab": {
     "base_uri": "https://localhost:8080/",
     "height": 419
    },
    "colab_type": "code",
    "executionInfo": {
     "elapsed": 1215,
     "status": "ok",
     "timestamp": 1598438661801,
     "user": {
      "displayName": "Emon Returns",
      "photoUrl": "https://lh3.googleusercontent.com/a-/AOh14GjadExHTUqXI-S_HQCl0Xsm-fUD1-10lewUWP2r=s64",
      "userId": "12373052627599554892"
     },
     "user_tz": -360
    },
    "id": "MzMulCVvcf59",
    "outputId": "c0725097-42b3-4fab-ed81-d0766d066f79"
   },
   "outputs": [
    {
     "data": {
      "text/html": [
       "<div>\n",
       "<style scoped>\n",
       "    .dataframe tbody tr th:only-of-type {\n",
       "        vertical-align: middle;\n",
       "    }\n",
       "\n",
       "    .dataframe tbody tr th {\n",
       "        vertical-align: top;\n",
       "    }\n",
       "\n",
       "    .dataframe thead th {\n",
       "        text-align: right;\n",
       "    }\n",
       "</style>\n",
       "<table border=\"1\" class=\"dataframe\">\n",
       "  <thead>\n",
       "    <tr style=\"text-align: right;\">\n",
       "      <th></th>\n",
       "      <th>MolLogP</th>\n",
       "      <th>MolWt</th>\n",
       "      <th>NumRotatableBonds</th>\n",
       "    </tr>\n",
       "  </thead>\n",
       "  <tbody>\n",
       "    <tr>\n",
       "      <th>0</th>\n",
       "      <td>2.59540</td>\n",
       "      <td>167.850</td>\n",
       "      <td>0.0</td>\n",
       "    </tr>\n",
       "    <tr>\n",
       "      <th>1</th>\n",
       "      <td>2.37650</td>\n",
       "      <td>133.405</td>\n",
       "      <td>0.0</td>\n",
       "    </tr>\n",
       "    <tr>\n",
       "      <th>2</th>\n",
       "      <td>2.59380</td>\n",
       "      <td>167.850</td>\n",
       "      <td>1.0</td>\n",
       "    </tr>\n",
       "    <tr>\n",
       "      <th>3</th>\n",
       "      <td>2.02890</td>\n",
       "      <td>133.405</td>\n",
       "      <td>1.0</td>\n",
       "    </tr>\n",
       "    <tr>\n",
       "      <th>4</th>\n",
       "      <td>2.91890</td>\n",
       "      <td>187.375</td>\n",
       "      <td>1.0</td>\n",
       "    </tr>\n",
       "    <tr>\n",
       "      <th>...</th>\n",
       "      <td>...</td>\n",
       "      <td>...</td>\n",
       "      <td>...</td>\n",
       "    </tr>\n",
       "    <tr>\n",
       "      <th>1139</th>\n",
       "      <td>1.98820</td>\n",
       "      <td>287.343</td>\n",
       "      <td>8.0</td>\n",
       "    </tr>\n",
       "    <tr>\n",
       "      <th>1140</th>\n",
       "      <td>3.42130</td>\n",
       "      <td>286.114</td>\n",
       "      <td>2.0</td>\n",
       "    </tr>\n",
       "    <tr>\n",
       "      <th>1141</th>\n",
       "      <td>3.60960</td>\n",
       "      <td>308.333</td>\n",
       "      <td>4.0</td>\n",
       "    </tr>\n",
       "    <tr>\n",
       "      <th>1142</th>\n",
       "      <td>2.56214</td>\n",
       "      <td>354.815</td>\n",
       "      <td>3.0</td>\n",
       "    </tr>\n",
       "    <tr>\n",
       "      <th>1143</th>\n",
       "      <td>2.02164</td>\n",
       "      <td>179.219</td>\n",
       "      <td>1.0</td>\n",
       "    </tr>\n",
       "  </tbody>\n",
       "</table>\n",
       "<p>1144 rows × 3 columns</p>\n",
       "</div>"
      ],
      "text/plain": [
       "      MolLogP    MolWt  NumRotatableBonds\n",
       "0     2.59540  167.850                0.0\n",
       "1     2.37650  133.405                0.0\n",
       "2     2.59380  167.850                1.0\n",
       "3     2.02890  133.405                1.0\n",
       "4     2.91890  187.375                1.0\n",
       "...       ...      ...                ...\n",
       "1139  1.98820  287.343                8.0\n",
       "1140  3.42130  286.114                2.0\n",
       "1141  3.60960  308.333                4.0\n",
       "1142  2.56214  354.815                3.0\n",
       "1143  2.02164  179.219                1.0\n",
       "\n",
       "[1144 rows x 3 columns]"
      ]
     },
     "execution_count": 22,
     "metadata": {
      "tags": []
     },
     "output_type": "execute_result"
    }
   ],
   "source": [
    "df = generate(sol.SMILES)\n",
    "df"
   ]
  },
  {
   "cell_type": "markdown",
   "metadata": {
    "colab_type": "text",
    "id": "qQYE-jCRSmCn"
   },
   "source": [
    "---"
   ]
  },
  {
   "cell_type": "markdown",
   "metadata": {},
   "source": [
    " "
   ]
  },
  {
   "cell_type": "markdown",
   "metadata": {},
   "source": [
    " "
   ]
  },
  {
   "cell_type": "markdown",
   "metadata": {},
   "source": [
    " "
   ]
  },
  {
   "cell_type": "markdown",
   "metadata": {},
   "source": [
    " "
   ]
  },
  {
   "cell_type": "markdown",
   "metadata": {
    "colab_type": "text",
    "id": "XtlGQy82OiCm"
   },
   "source": [
    "#### **Aromatic proportion**"
   ]
  },
  {
   "cell_type": "markdown",
   "metadata": {
    "colab_type": "text",
    "id": "YVK5WqOYSmY8"
   },
   "source": [
    "##### Number of aromatic atoms\n",
    "\n",
    "Here, I will create a custom function to calculate the **Number of aromatic atoms**.So that, With this descriptor I can use it to subsequently calculate the AP descriptor."
   ]
  },
  {
   "cell_type": "markdown",
   "metadata": {
    "colab_type": "text",
    "id": "xcw9oaPR4NM1"
   },
   "source": [
    "Computing for a single molecule."
   ]
  },
  {
   "cell_type": "code",
   "execution_count": 23,
   "metadata": {
    "colab": {},
    "colab_type": "code",
    "executionInfo": {
     "elapsed": 1101,
     "status": "ok",
     "timestamp": 1598438716672,
     "user": {
      "displayName": "Emon Returns",
      "photoUrl": "https://lh3.googleusercontent.com/a-/AOh14GjadExHTUqXI-S_HQCl0Xsm-fUD1-10lewUWP2r=s64",
      "userId": "12373052627599554892"
     },
     "user_tz": -360
    },
    "id": "1fJVXNHCSfLk"
   },
   "outputs": [],
   "source": [
    "m = Chem.MolFromSmiles('COc1cccc2cc(C(=O)NCCCCN3CCN(c4cccc5nccnc54)CC3)oc21')"
   ]
  },
  {
   "cell_type": "code",
   "execution_count": null,
   "metadata": {
    "colab": {
     "base_uri": "https://localhost:8080/",
     "height": 595
    },
    "colab_type": "code",
    "id": "FENb_2BkYyVq",
    "outputId": "5d93cc1d-4761-43a1-acfd-0adb9b119d41"
   },
   "outputs": [],
   "source": [
    "aromatic_atoms = [m.GetAtomWithIdx(i).GetIsAromatic() for i in range(m.GetNumAtoms())]\n"
   ]
  },
  {
   "cell_type": "code",
   "execution_count": 25,
   "metadata": {
    "colab": {},
    "colab_type": "code",
    "executionInfo": {
     "elapsed": 2257,
     "status": "ok",
     "timestamp": 1598439214319,
     "user": {
      "displayName": "Emon Returns",
      "photoUrl": "https://lh3.googleusercontent.com/a-/AOh14GjadExHTUqXI-S_HQCl0Xsm-fUD1-10lewUWP2r=s64",
      "userId": "12373052627599554892"
     },
     "user_tz": -360
    },
    "id": "nIF7IrIlcGPD"
   },
   "outputs": [],
   "source": [
    "def AromaticAtoms(m):\n",
    "  aromatic_atoms = [m.GetAtomWithIdx(i).GetIsAromatic() for i in range(m.GetNumAtoms())]\n",
    "  aa_count = []\n",
    "  for i in aromatic_atoms:\n",
    "    if i==True:\n",
    "      aa_count.append(1)\n",
    "  sum_aa_count = sum(aa_count)\n",
    "  return sum_aa_count"
   ]
  },
  {
   "cell_type": "code",
   "execution_count": 26,
   "metadata": {
    "colab": {
     "base_uri": "https://localhost:8080/",
     "height": 34
    },
    "colab_type": "code",
    "executionInfo": {
     "elapsed": 1274,
     "status": "ok",
     "timestamp": 1598439218941,
     "user": {
      "displayName": "Emon Returns",
      "photoUrl": "https://lh3.googleusercontent.com/a-/AOh14GjadExHTUqXI-S_HQCl0Xsm-fUD1-10lewUWP2r=s64",
      "userId": "12373052627599554892"
     },
     "user_tz": -360
    },
    "id": "PK-RJ-dpbqhn",
    "outputId": "3e0c6219-902a-40f5-8f6c-c38f3dde2805"
   },
   "outputs": [
    {
     "data": {
      "text/plain": [
       "19"
      ]
     },
     "execution_count": 26,
     "metadata": {
      "tags": []
     },
     "output_type": "execute_result"
    }
   ],
   "source": [
    "AromaticAtoms(m)"
   ]
  },
  {
   "cell_type": "markdown",
   "metadata": {},
   "source": [
    " "
   ]
  },
  {
   "cell_type": "markdown",
   "metadata": {},
   "source": [
    " "
   ]
  },
  {
   "cell_type": "markdown",
   "metadata": {},
   "source": [
    " "
   ]
  },
  {
   "cell_type": "markdown",
   "metadata": {
    "colab_type": "text",
    "id": "-uywPiwe4O31"
   },
   "source": [
    "### Computing for molecules in the entire Dataset."
   ]
  },
  {
   "cell_type": "code",
   "execution_count": 28,
   "metadata": {
    "colab": {},
    "colab_type": "code",
    "executionInfo": {
     "elapsed": 1142,
     "status": "ok",
     "timestamp": 1598439237818,
     "user": {
      "displayName": "Emon Returns",
      "photoUrl": "https://lh3.googleusercontent.com/a-/AOh14GjadExHTUqXI-S_HQCl0Xsm-fUD1-10lewUWP2r=s64",
      "userId": "12373052627599554892"
     },
     "user_tz": -360
    },
    "id": "jCeydvky4Rgl"
   },
   "outputs": [],
   "source": [
    "desc_AromaticAtoms = [AromaticAtoms(element) for element in mol_list]\n"
   ]
  },
  {
   "cell_type": "markdown",
   "metadata": {},
   "source": [
    " "
   ]
  },
  {
   "cell_type": "markdown",
   "metadata": {},
   "source": [
    " "
   ]
  },
  {
   "cell_type": "markdown",
   "metadata": {},
   "source": [
    " "
   ]
  },
  {
   "cell_type": "markdown",
   "metadata": {
    "colab_type": "text",
    "id": "rXGyuCnbOplQ"
   },
   "source": [
    "## **Number of heavy atoms**\n"
   ]
  },
  {
   "cell_type": "markdown",
   "metadata": {
    "colab_type": "text",
    "id": "Wgf1teHz3_pP"
   },
   "source": [
    "Computing for a single molecule."
   ]
  },
  {
   "cell_type": "code",
   "execution_count": 29,
   "metadata": {
    "colab": {
     "base_uri": "https://localhost:8080/",
     "height": 34
    },
    "colab_type": "code",
    "executionInfo": {
     "elapsed": 759,
     "status": "ok",
     "timestamp": 1598439248414,
     "user": {
      "displayName": "Emon Returns",
      "photoUrl": "https://lh3.googleusercontent.com/a-/AOh14GjadExHTUqXI-S_HQCl0Xsm-fUD1-10lewUWP2r=s64",
      "userId": "12373052627599554892"
     },
     "user_tz": -360
    },
    "id": "jVwvt02AOvhv",
    "outputId": "26eaa4c7-1f46-41c5-9394-e1d8c450b295"
   },
   "outputs": [
    {
     "data": {
      "text/plain": [
       "34"
      ]
     },
     "execution_count": 29,
     "metadata": {
      "tags": []
     },
     "output_type": "execute_result"
    }
   ],
   "source": [
    "m = Chem.MolFromSmiles('COc1cccc2cc(C(=O)NCCCCN3CCN(c4cccc5nccnc54)CC3)oc21')\n",
    "Descriptors.HeavyAtomCount(m)"
   ]
  },
  {
   "cell_type": "markdown",
   "metadata": {},
   "source": [
    " "
   ]
  },
  {
   "cell_type": "markdown",
   "metadata": {
    "colab_type": "text",
    "id": "Pv_BJcjA4HPz"
   },
   "source": [
    "#### Computing for molecules in the entire dataset."
   ]
  },
  {
   "cell_type": "code",
   "execution_count": 31,
   "metadata": {
    "colab": {},
    "colab_type": "code",
    "executionInfo": {
     "elapsed": 1451,
     "status": "ok",
     "timestamp": 1598439272918,
     "user": {
      "displayName": "Emon Returns",
      "photoUrl": "https://lh3.googleusercontent.com/a-/AOh14GjadExHTUqXI-S_HQCl0Xsm-fUD1-10lewUWP2r=s64",
      "userId": "12373052627599554892"
     },
     "user_tz": -360
    },
    "id": "m9nsQqIkOuIU"
   },
   "outputs": [],
   "source": [
    "desc_HeavyAtomCount = [Descriptors.HeavyAtomCount(element) for element in mol_list]\n"
   ]
  },
  {
   "cell_type": "markdown",
   "metadata": {
    "colab_type": "text",
    "id": "qQYE-jCRSmCn"
   },
   "source": [
    "---"
   ]
  },
  {
   "cell_type": "markdown",
   "metadata": {},
   "source": [
    " "
   ]
  },
  {
   "cell_type": "markdown",
   "metadata": {},
   "source": [
    " "
   ]
  },
  {
   "cell_type": "markdown",
   "metadata": {},
   "source": [
    " "
   ]
  },
  {
   "cell_type": "markdown",
   "metadata": {
    "colab_type": "text",
    "id": "iFDGqPQPQYZb"
   },
   "source": [
    "##### **Computing the Aromatic Proportion (AP) descriptor**"
   ]
  },
  {
   "cell_type": "code",
   "execution_count": 33,
   "metadata": {
    "colab": {},
    "colab_type": "code",
    "executionInfo": {
     "elapsed": 1430,
     "status": "ok",
     "timestamp": 1598439289209,
     "user": {
      "displayName": "Emon Returns",
      "photoUrl": "https://lh3.googleusercontent.com/a-/AOh14GjadExHTUqXI-S_HQCl0Xsm-fUD1-10lewUWP2r=s64",
      "userId": "12373052627599554892"
     },
     "user_tz": -360
    },
    "id": "DogBBjDu4-mI"
   },
   "outputs": [],
   "source": [
    "desc_AromaticProportion = [AromaticAtoms(element)/Descriptors.HeavyAtomCount(element) for element in mol_list]\n"
   ]
  },
  {
   "cell_type": "code",
   "execution_count": 34,
   "metadata": {
    "colab": {},
    "colab_type": "code",
    "executionInfo": {
     "elapsed": 1927,
     "status": "ok",
     "timestamp": 1598439314241,
     "user": {
      "displayName": "Emon Returns",
      "photoUrl": "https://lh3.googleusercontent.com/a-/AOh14GjadExHTUqXI-S_HQCl0Xsm-fUD1-10lewUWP2r=s64",
      "userId": "12373052627599554892"
     },
     "user_tz": -360
    },
    "id": "9zovyVTQOxvA"
   },
   "outputs": [],
   "source": [
    "df_desc_AromaticProportion = pd.DataFrame(desc_AromaticProportion, columns=['AromaticProportion'])\n"
   ]
  },
  {
   "cell_type": "markdown",
   "metadata": {
    "colab_type": "text",
    "id": "qQYE-jCRSmCn"
   },
   "source": [
    "---"
   ]
  },
  {
   "cell_type": "markdown",
   "metadata": {},
   "source": [
    " "
   ]
  },
  {
   "cell_type": "markdown",
   "metadata": {},
   "source": [
    " "
   ]
  },
  {
   "cell_type": "markdown",
   "metadata": {},
   "source": [
    "<h3 align = \"center\">Building The QSAR Prediction Model</h3> "
   ]
  },
  {
   "cell_type": "markdown",
   "metadata": {},
   "source": [
    " "
   ]
  },
  {
   "cell_type": "markdown",
   "metadata": {},
   "source": [
    " "
   ]
  },
  {
   "cell_type": "markdown",
   "metadata": {
    "colab_type": "text",
    "id": "3ZKZKPOuCVTY"
   },
   "source": [
    "### **X matrix (Combining all computed descriptors into 1 dataframe)**"
   ]
  },
  {
   "cell_type": "markdown",
   "metadata": {
    "colab_type": "text",
    "id": "KJZT1Ij7Cm7W"
   },
   "source": [
    "Let's combine the 2 dataframes to produce the **X** matrix"
   ]
  },
  {
   "cell_type": "code",
   "execution_count": 37,
   "metadata": {
    "colab": {
     "base_uri": "https://localhost:8080/",
     "height": 419
    },
    "colab_type": "code",
    "executionInfo": {
     "elapsed": 1114,
     "status": "ok",
     "timestamp": 1598439358608,
     "user": {
      "displayName": "Emon Returns",
      "photoUrl": "https://lh3.googleusercontent.com/a-/AOh14GjadExHTUqXI-S_HQCl0Xsm-fUD1-10lewUWP2r=s64",
      "userId": "12373052627599554892"
     },
     "user_tz": -360
    },
    "id": "_lYBhrsaCqEq",
    "outputId": "cc71ad12-50f4-4f10-a601-fa197fd6b305"
   },
   "outputs": [
    {
     "data": {
      "text/html": [
       "<div>\n",
       "<style scoped>\n",
       "    .dataframe tbody tr th:only-of-type {\n",
       "        vertical-align: middle;\n",
       "    }\n",
       "\n",
       "    .dataframe tbody tr th {\n",
       "        vertical-align: top;\n",
       "    }\n",
       "\n",
       "    .dataframe thead th {\n",
       "        text-align: right;\n",
       "    }\n",
       "</style>\n",
       "<table border=\"1\" class=\"dataframe\">\n",
       "  <thead>\n",
       "    <tr style=\"text-align: right;\">\n",
       "      <th></th>\n",
       "      <th>MolLogP</th>\n",
       "      <th>MolWt</th>\n",
       "      <th>NumRotatableBonds</th>\n",
       "      <th>AromaticProportion</th>\n",
       "    </tr>\n",
       "  </thead>\n",
       "  <tbody>\n",
       "    <tr>\n",
       "      <th>0</th>\n",
       "      <td>2.59540</td>\n",
       "      <td>167.850</td>\n",
       "      <td>0.0</td>\n",
       "      <td>0.000000</td>\n",
       "    </tr>\n",
       "    <tr>\n",
       "      <th>1</th>\n",
       "      <td>2.37650</td>\n",
       "      <td>133.405</td>\n",
       "      <td>0.0</td>\n",
       "      <td>0.000000</td>\n",
       "    </tr>\n",
       "    <tr>\n",
       "      <th>2</th>\n",
       "      <td>2.59380</td>\n",
       "      <td>167.850</td>\n",
       "      <td>1.0</td>\n",
       "      <td>0.000000</td>\n",
       "    </tr>\n",
       "    <tr>\n",
       "      <th>3</th>\n",
       "      <td>2.02890</td>\n",
       "      <td>133.405</td>\n",
       "      <td>1.0</td>\n",
       "      <td>0.000000</td>\n",
       "    </tr>\n",
       "    <tr>\n",
       "      <th>4</th>\n",
       "      <td>2.91890</td>\n",
       "      <td>187.375</td>\n",
       "      <td>1.0</td>\n",
       "      <td>0.000000</td>\n",
       "    </tr>\n",
       "    <tr>\n",
       "      <th>...</th>\n",
       "      <td>...</td>\n",
       "      <td>...</td>\n",
       "      <td>...</td>\n",
       "      <td>...</td>\n",
       "    </tr>\n",
       "    <tr>\n",
       "      <th>1139</th>\n",
       "      <td>1.98820</td>\n",
       "      <td>287.343</td>\n",
       "      <td>8.0</td>\n",
       "      <td>0.000000</td>\n",
       "    </tr>\n",
       "    <tr>\n",
       "      <th>1140</th>\n",
       "      <td>3.42130</td>\n",
       "      <td>286.114</td>\n",
       "      <td>2.0</td>\n",
       "      <td>0.333333</td>\n",
       "    </tr>\n",
       "    <tr>\n",
       "      <th>1141</th>\n",
       "      <td>3.60960</td>\n",
       "      <td>308.333</td>\n",
       "      <td>4.0</td>\n",
       "      <td>0.695652</td>\n",
       "    </tr>\n",
       "    <tr>\n",
       "      <th>1142</th>\n",
       "      <td>2.56214</td>\n",
       "      <td>354.815</td>\n",
       "      <td>3.0</td>\n",
       "      <td>0.521739</td>\n",
       "    </tr>\n",
       "    <tr>\n",
       "      <th>1143</th>\n",
       "      <td>2.02164</td>\n",
       "      <td>179.219</td>\n",
       "      <td>1.0</td>\n",
       "      <td>0.461538</td>\n",
       "    </tr>\n",
       "  </tbody>\n",
       "</table>\n",
       "<p>1144 rows × 4 columns</p>\n",
       "</div>"
      ],
      "text/plain": [
       "      MolLogP    MolWt  NumRotatableBonds  AromaticProportion\n",
       "0     2.59540  167.850                0.0            0.000000\n",
       "1     2.37650  133.405                0.0            0.000000\n",
       "2     2.59380  167.850                1.0            0.000000\n",
       "3     2.02890  133.405                1.0            0.000000\n",
       "4     2.91890  187.375                1.0            0.000000\n",
       "...       ...      ...                ...                 ...\n",
       "1139  1.98820  287.343                8.0            0.000000\n",
       "1140  3.42130  286.114                2.0            0.333333\n",
       "1141  3.60960  308.333                4.0            0.695652\n",
       "1142  2.56214  354.815                3.0            0.521739\n",
       "1143  2.02164  179.219                1.0            0.461538\n",
       "\n",
       "[1144 rows x 4 columns]"
      ]
     },
     "execution_count": 37,
     "metadata": {
      "tags": []
     },
     "output_type": "execute_result"
    }
   ],
   "source": [
    "X = pd.concat([df,df_desc_AromaticProportion], axis=1)\n",
    "X"
   ]
  },
  {
   "cell_type": "markdown",
   "metadata": {
    "colab_type": "text",
    "id": "zZI9k4h6FsPF"
   },
   "source": [
    "### **Y matrix**"
   ]
  },
  {
   "cell_type": "code",
   "execution_count": 38,
   "metadata": {
    "colab": {
     "base_uri": "https://localhost:8080/",
     "height": 204
    },
    "colab_type": "code",
    "executionInfo": {
     "elapsed": 1134,
     "status": "ok",
     "timestamp": 1598439370891,
     "user": {
      "displayName": "Emon Returns",
      "photoUrl": "https://lh3.googleusercontent.com/a-/AOh14GjadExHTUqXI-S_HQCl0Xsm-fUD1-10lewUWP2r=s64",
      "userId": "12373052627599554892"
     },
     "user_tz": -360
    },
    "id": "OazcNGkMHCu1",
    "outputId": "bc1b9d79-597f-4550-9aeb-cd0812bb1bfe"
   },
   "outputs": [
    {
     "data": {
      "text/html": [
       "<div>\n",
       "<style scoped>\n",
       "    .dataframe tbody tr th:only-of-type {\n",
       "        vertical-align: middle;\n",
       "    }\n",
       "\n",
       "    .dataframe tbody tr th {\n",
       "        vertical-align: top;\n",
       "    }\n",
       "\n",
       "    .dataframe thead th {\n",
       "        text-align: right;\n",
       "    }\n",
       "</style>\n",
       "<table border=\"1\" class=\"dataframe\">\n",
       "  <thead>\n",
       "    <tr style=\"text-align: right;\">\n",
       "      <th></th>\n",
       "      <th>Compound ID</th>\n",
       "      <th>measured log(solubility:mol/L)</th>\n",
       "      <th>ESOL predicted log(solubility:mol/L)</th>\n",
       "      <th>SMILES</th>\n",
       "    </tr>\n",
       "  </thead>\n",
       "  <tbody>\n",
       "    <tr>\n",
       "      <th>0</th>\n",
       "      <td>1,1,1,2-Tetrachloroethane</td>\n",
       "      <td>-2.18</td>\n",
       "      <td>-2.794</td>\n",
       "      <td>ClCC(Cl)(Cl)Cl</td>\n",
       "    </tr>\n",
       "    <tr>\n",
       "      <th>1</th>\n",
       "      <td>1,1,1-Trichloroethane</td>\n",
       "      <td>-2.00</td>\n",
       "      <td>-2.232</td>\n",
       "      <td>CC(Cl)(Cl)Cl</td>\n",
       "    </tr>\n",
       "    <tr>\n",
       "      <th>2</th>\n",
       "      <td>1,1,2,2-Tetrachloroethane</td>\n",
       "      <td>-1.74</td>\n",
       "      <td>-2.549</td>\n",
       "      <td>ClC(Cl)C(Cl)Cl</td>\n",
       "    </tr>\n",
       "    <tr>\n",
       "      <th>3</th>\n",
       "      <td>1,1,2-Trichloroethane</td>\n",
       "      <td>-1.48</td>\n",
       "      <td>-1.961</td>\n",
       "      <td>ClCC(Cl)Cl</td>\n",
       "    </tr>\n",
       "    <tr>\n",
       "      <th>4</th>\n",
       "      <td>1,1,2-Trichlorotrifluoroethane</td>\n",
       "      <td>-3.04</td>\n",
       "      <td>-3.077</td>\n",
       "      <td>FC(F)(Cl)C(F)(Cl)Cl</td>\n",
       "    </tr>\n",
       "  </tbody>\n",
       "</table>\n",
       "</div>"
      ],
      "text/plain": [
       "                      Compound ID  ...               SMILES\n",
       "0       1,1,1,2-Tetrachloroethane  ...       ClCC(Cl)(Cl)Cl\n",
       "1           1,1,1-Trichloroethane  ...         CC(Cl)(Cl)Cl\n",
       "2       1,1,2,2-Tetrachloroethane  ...       ClC(Cl)C(Cl)Cl\n",
       "3           1,1,2-Trichloroethane  ...           ClCC(Cl)Cl\n",
       "4  1,1,2-Trichlorotrifluoroethane  ...  FC(F)(Cl)C(F)(Cl)Cl\n",
       "\n",
       "[5 rows x 4 columns]"
      ]
     },
     "execution_count": 38,
     "metadata": {
      "tags": []
     },
     "output_type": "execute_result"
    }
   ],
   "source": [
    "sol.head()"
   ]
  },
  {
   "cell_type": "markdown",
   "metadata": {
    "colab_type": "text",
    "id": "6m4Akv3rHG3E"
   },
   "source": [
    "Assigning the second column (index 1) to the Y matrix"
   ]
  },
  {
   "cell_type": "code",
   "execution_count": 40,
   "metadata": {
    "colab": {
     "base_uri": "https://localhost:8080/",
     "height": 221
    },
    "colab_type": "code",
    "executionInfo": {
     "elapsed": 1342,
     "status": "ok",
     "timestamp": 1598439715523,
     "user": {
      "displayName": "Emon Returns",
      "photoUrl": "https://lh3.googleusercontent.com/a-/AOh14GjadExHTUqXI-S_HQCl0Xsm-fUD1-10lewUWP2r=s64",
      "userId": "12373052627599554892"
     },
     "user_tz": -360
    },
    "id": "fcvXs7R7FrbC",
    "outputId": "fe95dc79-9a68-47ea-945a-055547e7c928"
   },
   "outputs": [
    {
     "data": {
      "text/plain": [
       "0      -2.180\n",
       "1      -2.000\n",
       "2      -1.740\n",
       "3      -1.480\n",
       "4      -3.040\n",
       "        ...  \n",
       "1139    1.144\n",
       "1140   -4.925\n",
       "1141   -3.893\n",
       "1142   -3.790\n",
       "1143   -2.581\n",
       "Name: measured log(solubility:mol/L), Length: 1144, dtype: float64"
      ]
     },
     "execution_count": 40,
     "metadata": {
      "tags": []
     },
     "output_type": "execute_result"
    }
   ],
   "source": [
    "Y = sol.iloc[:,1]\n",
    "Y"
   ]
  },
  {
   "cell_type": "markdown",
   "metadata": {
    "colab_type": "text",
    "id": "qQYE-jCRSmCn"
   },
   "source": [
    "---"
   ]
  },
  {
   "cell_type": "markdown",
   "metadata": {},
   "source": [
    " "
   ]
  },
  {
   "cell_type": "markdown",
   "metadata": {},
   "source": [
    " "
   ]
  },
  {
   "cell_type": "markdown",
   "metadata": {},
   "source": [
    " "
   ]
  },
  {
   "cell_type": "markdown",
   "metadata": {},
   "source": [
    " "
   ]
  },
  {
   "cell_type": "markdown",
   "metadata": {
    "colab_type": "text",
    "id": "SzrfuUZNFg_X"
   },
   "source": [
    "## **Data split**\n",
    "\n",
    "for training the model on the selected features of the chemical molecules, I've seperated the data into test and training set. The model will be validated on the test set. to avoid complexity, I've skipped the validation set."
   ]
  },
  {
   "cell_type": "markdown",
   "metadata": {},
   "source": [
    " "
   ]
  },
  {
   "cell_type": "code",
   "execution_count": 41,
   "metadata": {
    "colab": {},
    "colab_type": "code",
    "executionInfo": {
     "elapsed": 8010,
     "status": "ok",
     "timestamp": 1598439819211,
     "user": {
      "displayName": "Emon Returns",
      "photoUrl": "https://lh3.googleusercontent.com/a-/AOh14GjadExHTUqXI-S_HQCl0Xsm-fUD1-10lewUWP2r=s64",
      "userId": "12373052627599554892"
     },
     "user_tz": -360
    },
    "id": "dMRn8EVjFlrT"
   },
   "outputs": [],
   "source": [
    "from sklearn.model_selection import train_test_split"
   ]
  },
  {
   "cell_type": "code",
   "execution_count": 42,
   "metadata": {
    "colab": {},
    "colab_type": "code",
    "executionInfo": {
     "elapsed": 2115,
     "status": "ok",
     "timestamp": 1598439822680,
     "user": {
      "displayName": "Emon Returns",
      "photoUrl": "https://lh3.googleusercontent.com/a-/AOh14GjadExHTUqXI-S_HQCl0Xsm-fUD1-10lewUWP2r=s64",
      "userId": "12373052627599554892"
     },
     "user_tz": -360
    },
    "id": "aOIAljc1FmXb"
   },
   "outputs": [],
   "source": [
    "X_train, X_test, Y_train, Y_test = train_test_split(X, Y, test_size=0.2)"
   ]
  },
  {
   "cell_type": "markdown",
   "metadata": {},
   "source": [
    " "
   ]
  },
  {
   "cell_type": "markdown",
   "metadata": {},
   "source": [
    " "
   ]
  },
  {
   "cell_type": "markdown",
   "metadata": {
    "colab_type": "text",
    "id": "39nTAc3UFUMW"
   },
   "source": [
    "## **Regression Model**"
   ]
  },
  {
   "cell_type": "code",
   "execution_count": 43,
   "metadata": {
    "colab": {},
    "colab_type": "code",
    "executionInfo": {
     "elapsed": 2474,
     "status": "ok",
     "timestamp": 1598439827848,
     "user": {
      "displayName": "Emon Returns",
      "photoUrl": "https://lh3.googleusercontent.com/a-/AOh14GjadExHTUqXI-S_HQCl0Xsm-fUD1-10lewUWP2r=s64",
      "userId": "12373052627599554892"
     },
     "user_tz": -360
    },
    "id": "K0MokzGBCimk"
   },
   "outputs": [],
   "source": [
    "from sklearn import linear_model\n",
    "from sklearn.metrics import mean_squared_error, r2_score"
   ]
  },
  {
   "cell_type": "code",
   "execution_count": 44,
   "metadata": {
    "colab": {
     "base_uri": "https://localhost:8080/",
     "height": 34
    },
    "colab_type": "code",
    "executionInfo": {
     "elapsed": 2947,
     "status": "ok",
     "timestamp": 1598439835241,
     "user": {
      "displayName": "Emon Returns",
      "photoUrl": "https://lh3.googleusercontent.com/a-/AOh14GjadExHTUqXI-S_HQCl0Xsm-fUD1-10lewUWP2r=s64",
      "userId": "12373052627599554892"
     },
     "user_tz": -360
    },
    "id": "vkR1siPuFZ6X",
    "outputId": "8e73e99b-9eb0-4ee6-8da1-69e661ae3283"
   },
   "outputs": [
    {
     "data": {
      "text/plain": [
       "LinearRegression(copy_X=True, fit_intercept=True, n_jobs=None, normalize=False)"
      ]
     },
     "execution_count": 44,
     "metadata": {
      "tags": []
     },
     "output_type": "execute_result"
    }
   ],
   "source": [
    "model = linear_model.LinearRegression()\n",
    "model.fit(X_train, Y_train)"
   ]
  },
  {
   "cell_type": "markdown",
   "metadata": {},
   "source": [
    " "
   ]
  },
  {
   "cell_type": "markdown",
   "metadata": {},
   "source": [
    " "
   ]
  },
  {
   "cell_type": "markdown",
   "metadata": {
    "colab_type": "text",
    "id": "aG4DMzc5Rks9"
   },
   "source": [
    "### **Predicts the X_train**"
   ]
  },
  {
   "cell_type": "code",
   "execution_count": 45,
   "metadata": {
    "colab": {},
    "colab_type": "code",
    "executionInfo": {
     "elapsed": 2715,
     "status": "ok",
     "timestamp": 1598439840009,
     "user": {
      "displayName": "Emon Returns",
      "photoUrl": "https://lh3.googleusercontent.com/a-/AOh14GjadExHTUqXI-S_HQCl0Xsm-fUD1-10lewUWP2r=s64",
      "userId": "12373052627599554892"
     },
     "user_tz": -360
    },
    "id": "tZr9CBGvRp1F"
   },
   "outputs": [],
   "source": [
    "Y_pred_train = model.predict(X_train)"
   ]
  },
  {
   "cell_type": "code",
   "execution_count": 46,
   "metadata": {
    "colab": {
     "base_uri": "https://localhost:8080/",
     "height": 85
    },
    "colab_type": "code",
    "executionInfo": {
     "elapsed": 1573,
     "status": "ok",
     "timestamp": 1598439842683,
     "user": {
      "displayName": "Emon Returns",
      "photoUrl": "https://lh3.googleusercontent.com/a-/AOh14GjadExHTUqXI-S_HQCl0Xsm-fUD1-10lewUWP2r=s64",
      "userId": "12373052627599554892"
     },
     "user_tz": -360
    },
    "id": "0x3saPCyRtJP",
    "outputId": "50bad1a3-44aa-405a-98c1-e5b019956ac8"
   },
   "outputs": [
    {
     "name": "stdout",
     "output_type": "stream",
     "text": [
      "Coefficients: [-0.7329326  -0.00651081  0.00244105 -0.43624217]\n",
      "Intercept: 0.20913983181840656\n",
      "Mean squared error (MSE): 1.03\n",
      "Coefficient of determination (R^2): 0.76\n"
     ]
    }
   ],
   "source": [
    "print('Coefficients:', model.coef_)\n",
    "print('Intercept:', model.intercept_)\n",
    "print('Mean squared error (MSE): %.2f'\n",
    "      % mean_squared_error(Y_train, Y_pred_train))\n",
    "print('Coefficient of determination (R^2): %.2f'\n",
    "      % r2_score(Y_train, Y_pred_train))"
   ]
  },
  {
   "cell_type": "markdown",
   "metadata": {},
   "source": [
    " "
   ]
  },
  {
   "cell_type": "markdown",
   "metadata": {},
   "source": [
    " "
   ]
  },
  {
   "cell_type": "markdown",
   "metadata": {
    "colab_type": "text",
    "id": "M6evZTPNRecd"
   },
   "source": [
    "### **Predicts the X_test**"
   ]
  },
  {
   "cell_type": "code",
   "execution_count": 48,
   "metadata": {
    "colab": {},
    "colab_type": "code",
    "executionInfo": {
     "elapsed": 1221,
     "status": "ok",
     "timestamp": 1598439998313,
     "user": {
      "displayName": "Emon Returns",
      "photoUrl": "https://lh3.googleusercontent.com/a-/AOh14GjadExHTUqXI-S_HQCl0Xsm-fUD1-10lewUWP2r=s64",
      "userId": "12373052627599554892"
     },
     "user_tz": -360
    },
    "id": "I_eFbrlaHhPU"
   },
   "outputs": [],
   "source": [
    "Y_pred_test = model.predict(X_test)"
   ]
  },
  {
   "cell_type": "code",
   "execution_count": 49,
   "metadata": {
    "colab": {
     "base_uri": "https://localhost:8080/",
     "height": 85
    },
    "colab_type": "code",
    "executionInfo": {
     "elapsed": 1276,
     "status": "ok",
     "timestamp": 1598440004971,
     "user": {
      "displayName": "Emon Returns",
      "photoUrl": "https://lh3.googleusercontent.com/a-/AOh14GjadExHTUqXI-S_HQCl0Xsm-fUD1-10lewUWP2r=s64",
      "userId": "12373052627599554892"
     },
     "user_tz": -360
    },
    "id": "TQnDfyl5HkUr",
    "outputId": "b1087eae-99c9-413c-cd61-dbcffb4255a6"
   },
   "outputs": [
    {
     "name": "stdout",
     "output_type": "stream",
     "text": [
      "Coefficients: [-0.7329326  -0.00651081  0.00244105 -0.43624217]\n",
      "Intercept: 0.20913983181840656\n",
      "Mean squared error (MSE): 0.94\n",
      "Coefficient of determination (R^2): 0.81\n"
     ]
    }
   ],
   "source": [
    "print('Coefficients:', model.coef_)\n",
    "print('Intercept:', model.intercept_)\n",
    "print('Mean squared error (MSE): %.2f'\n",
    "      % mean_squared_error(Y_test, Y_pred_test))\n",
    "print('Coefficient of determination (R^2): %.2f'\n",
    "      % r2_score(Y_test, Y_pred_test))"
   ]
  },
  {
   "cell_type": "markdown",
   "metadata": {},
   "source": [
    " "
   ]
  },
  {
   "cell_type": "markdown",
   "metadata": {},
   "source": [
    " "
   ]
  },
  {
   "cell_type": "markdown",
   "metadata": {},
   "source": [
    "81% explainability of variation in solubility by my selected features. Another point to be noted **Molecular weight** and **Number of rotational Bonds** having relatively little impact than other features."
   ]
  },
  {
   "cell_type": "markdown",
   "metadata": {
    "colab_type": "text",
    "id": "qQYE-jCRSmCn"
   },
   "source": [
    "---"
   ]
  },
  {
   "cell_type": "markdown",
   "metadata": {},
   "source": [
    " "
   ]
  },
  {
   "cell_type": "markdown",
   "metadata": {},
   "source": [
    " "
   ]
  },
  {
   "cell_type": "markdown",
   "metadata": {},
   "source": [
    " "
   ]
  },
  {
   "cell_type": "markdown",
   "metadata": {},
   "source": [
    "<h3 align = \"center\">Regression Equation</h3>"
   ]
  },
  {
   "cell_type": "markdown",
   "metadata": {},
   "source": [
    " "
   ]
  },
  {
   "cell_type": "markdown",
   "metadata": {},
   "source": [
    "The equation is inspired by the excellent blog post by [Pat Walters](http://practicalcheminformatics.blogspot.com/2018/09/predicting-aqueous-solubility-its.html)$^2$ where he reproduced the linear regression model with similar degree of performance as that of Delaney."
   ]
  },
  {
   "cell_type": "markdown",
   "metadata": {},
   "source": [
    " "
   ]
  },
  {
   "cell_type": "markdown",
   "metadata": {
    "colab_type": "text",
    "id": "nERFfdQBRFF5"
   },
   "source": [
    "### **Linear Regression Equation**"
   ]
  },
  {
   "cell_type": "markdown",
   "metadata": {
    "colab_type": "text",
    "id": "j3xLiGWHFiY1"
   },
   "source": [
    "The work of Delaney$^1$ provided the following linear regression equation:\n",
    "\n",
    "> LogS = 0.16 -  0.63 cLogP - 0.0062 MW + 0.066 RB - 0.74 AP\n",
    "\n",
    "The reproduction by Pat Walters$^2$ provided the following:\n",
    "\n",
    "> LogS = 0.26 -  0.74 LogP - 0.0066 MW + 0.0034 RB - 0.42 AP\n",
    "\n",
    "This notebook's reproduction gave the following equation:\n",
    "\n"
   ]
  },
  {
   "cell_type": "markdown",
   "metadata": {},
   "source": [
    " "
   ]
  },
  {
   "cell_type": "markdown",
   "metadata": {},
   "source": [
    " "
   ]
  },
  {
   "cell_type": "markdown",
   "metadata": {},
   "source": [
    " "
   ]
  },
  {
   "cell_type": "markdown",
   "metadata": {},
   "source": [
    " "
   ]
  },
  {
   "cell_type": "markdown",
   "metadata": {
    "colab_type": "text",
    "id": "FaWyYnMbWtYu"
   },
   "source": [
    "#### **Linear regression equation of My Model**"
   ]
  },
  {
   "cell_type": "code",
   "execution_count": 50,
   "metadata": {
    "colab": {
     "base_uri": "https://localhost:8080/",
     "height": 34
    },
    "colab_type": "code",
    "executionInfo": {
     "elapsed": 1493,
     "status": "ok",
     "timestamp": 1598440157105,
     "user": {
      "displayName": "Emon Returns",
      "photoUrl": "https://lh3.googleusercontent.com/a-/AOh14GjadExHTUqXI-S_HQCl0Xsm-fUD1-10lewUWP2r=s64",
      "userId": "12373052627599554892"
     },
     "user_tz": -360
    },
    "id": "0TH6J9evHIIE",
    "outputId": "4ee3deac-c716-47de-f709-055085a15286"
   },
   "outputs": [
    {
     "name": "stdout",
     "output_type": "stream",
     "text": [
      "LogS = 0.21 -0.73 LogP -0.0065 MW 0.0024 RB -0.44 AP\n"
     ]
    }
   ],
   "source": [
    "print('LogS = %.2f %.2f LogP %.4f MW %.4f RB %.2f AP' % (model.intercept_, model.coef_[0], model.coef_[1], model.coef_[2], model.coef_[3] ) )"
   ]
  },
  {
   "cell_type": "markdown",
   "metadata": {},
   "source": [
    " "
   ]
  },
  {
   "cell_type": "markdown",
   "metadata": {},
   "source": [
    " "
   ]
  },
  {
   "cell_type": "markdown",
   "metadata": {},
   "source": [
    " "
   ]
  },
  {
   "cell_type": "markdown",
   "metadata": {
    "colab_type": "text",
    "id": "qQYE-jCRSmCn"
   },
   "source": [
    "---"
   ]
  },
  {
   "cell_type": "markdown",
   "metadata": {},
   "source": [
    " "
   ]
  },
  {
   "cell_type": "markdown",
   "metadata": {
    "colab_type": "text",
    "id": "R3lRkSOJRm1q"
   },
   "source": [
    "#### **Using entire dataset for model training (For Comparison)**"
   ]
  },
  {
   "cell_type": "markdown",
   "metadata": {},
   "source": [
    " "
   ]
  },
  {
   "cell_type": "code",
   "execution_count": 53,
   "metadata": {
    "colab": {
     "base_uri": "https://localhost:8080/",
     "height": 34
    },
    "colab_type": "code",
    "executionInfo": {
     "elapsed": 1097,
     "status": "ok",
     "timestamp": 1598440241265,
     "user": {
      "displayName": "Emon Returns",
      "photoUrl": "https://lh3.googleusercontent.com/a-/AOh14GjadExHTUqXI-S_HQCl0Xsm-fUD1-10lewUWP2r=s64",
      "userId": "12373052627599554892"
     },
     "user_tz": -360
    },
    "id": "QUye6SsIRl9T",
    "outputId": "d06678e0-976f-4985-e561-2cfa8eb2fd16"
   },
   "outputs": [
    {
     "data": {
      "text/plain": [
       "LinearRegression(copy_X=True, fit_intercept=True, n_jobs=None, normalize=False)"
      ]
     },
     "execution_count": 53,
     "metadata": {
      "tags": []
     },
     "output_type": "execute_result"
    }
   ],
   "source": [
    "full = linear_model.LinearRegression()\n",
    "full.fit(X, Y)"
   ]
  },
  {
   "cell_type": "markdown",
   "metadata": {},
   "source": [
    " "
   ]
  },
  {
   "cell_type": "code",
   "execution_count": 54,
   "metadata": {
    "colab": {},
    "colab_type": "code",
    "executionInfo": {
     "elapsed": 1278,
     "status": "ok",
     "timestamp": 1598440251823,
     "user": {
      "displayName": "Emon Returns",
      "photoUrl": "https://lh3.googleusercontent.com/a-/AOh14GjadExHTUqXI-S_HQCl0Xsm-fUD1-10lewUWP2r=s64",
      "userId": "12373052627599554892"
     },
     "user_tz": -360
    },
    "id": "6tMI8n0oR1b5"
   },
   "outputs": [],
   "source": [
    "full_pred = model.predict(X)"
   ]
  },
  {
   "cell_type": "markdown",
   "metadata": {},
   "source": [
    " "
   ]
  },
  {
   "cell_type": "code",
   "execution_count": 55,
   "metadata": {
    "colab": {
     "base_uri": "https://localhost:8080/",
     "height": 85
    },
    "colab_type": "code",
    "executionInfo": {
     "elapsed": 1176,
     "status": "ok",
     "timestamp": 1598440257332,
     "user": {
      "displayName": "Emon Returns",
      "photoUrl": "https://lh3.googleusercontent.com/a-/AOh14GjadExHTUqXI-S_HQCl0Xsm-fUD1-10lewUWP2r=s64",
      "userId": "12373052627599554892"
     },
     "user_tz": -360
    },
    "id": "7ZVD8Fg1R6zt",
    "outputId": "776e0aa0-d68f-4f01-edd2-27dc317c51ed"
   },
   "outputs": [
    {
     "name": "stdout",
     "output_type": "stream",
     "text": [
      "Coefficients: [-0.74173609 -0.00659927  0.00320051 -0.42316387]\n",
      "Intercept: 0.2565006830997185\n",
      "Mean squared error (MSE): 1.01\n",
      "Coefficient of determination (R^2): 0.77\n"
     ]
    }
   ],
   "source": [
    "print('Coefficients:', full.coef_)\n",
    "print('Intercept:', full.intercept_)\n",
    "print('Mean squared error (MSE): %.2f'\n",
    "      % mean_squared_error(Y, full_pred))\n",
    "print('Coefficient of determination (R^2): %.2f'\n",
    "      % r2_score(Y, full_pred))"
   ]
  },
  {
   "cell_type": "markdown",
   "metadata": {},
   "source": [
    " "
   ]
  },
  {
   "cell_type": "markdown",
   "metadata": {},
   "source": [
    " "
   ]
  },
  {
   "cell_type": "code",
   "execution_count": 56,
   "metadata": {
    "colab": {},
    "colab_type": "code",
    "executionInfo": {
     "elapsed": 1310,
     "status": "ok",
     "timestamp": 1598440263085,
     "user": {
      "displayName": "Emon Returns",
      "photoUrl": "https://lh3.googleusercontent.com/a-/AOh14GjadExHTUqXI-S_HQCl0Xsm-fUD1-10lewUWP2r=s64",
      "userId": "12373052627599554892"
     },
     "user_tz": -360
    },
    "id": "AFYYzcc1VqIo"
   },
   "outputs": [],
   "source": [
    "full_yintercept = '%.2f' % full.intercept_\n",
    "full_LogP = '%.2f LogP' % full.coef_[0]\n",
    "full_MW = '%.4f MW' % full.coef_[1]\n",
    "full_RB = '+ %.4f RB' % full.coef_[2]\n",
    "full_AP = '%.2f AP' % full.coef_[3]"
   ]
  },
  {
   "cell_type": "code",
   "execution_count": 57,
   "metadata": {
    "colab": {
     "base_uri": "https://localhost:8080/",
     "height": 34
    },
    "colab_type": "code",
    "executionInfo": {
     "elapsed": 1092,
     "status": "ok",
     "timestamp": 1598440266223,
     "user": {
      "displayName": "Emon Returns",
      "photoUrl": "https://lh3.googleusercontent.com/a-/AOh14GjadExHTUqXI-S_HQCl0Xsm-fUD1-10lewUWP2r=s64",
      "userId": "12373052627599554892"
     },
     "user_tz": -360
    },
    "id": "zwU4QJhhVsKb",
    "outputId": "8c4cf7b3-6cc1-4af8-de49-1e55654e4bdc"
   },
   "outputs": [
    {
     "name": "stdout",
     "output_type": "stream",
     "text": [
      "LogS =  0.26 -0.74 LogP -0.0066 MW + 0.0032 RB -0.42 AP\n"
     ]
    }
   ],
   "source": [
    "print('LogS = ' + \n",
    "      ' ' + \n",
    "      full_yintercept + \n",
    "      ' ' + \n",
    "      full_LogP + \n",
    "      ' ' + \n",
    "      full_MW + \n",
    "      ' ' + \n",
    "      full_RB + \n",
    "      ' ' + \n",
    "      full_AP)"
   ]
  },
  {
   "cell_type": "markdown",
   "metadata": {},
   "source": [
    " "
   ]
  },
  {
   "cell_type": "markdown",
   "metadata": {},
   "source": [
    " "
   ]
  },
  {
   "cell_type": "markdown",
   "metadata": {},
   "source": [
    " "
   ]
  },
  {
   "cell_type": "markdown",
   "metadata": {
    "colab_type": "text",
    "id": "qQYE-jCRSmCn"
   },
   "source": [
    "---"
   ]
  },
  {
   "cell_type": "markdown",
   "metadata": {},
   "source": [
    " "
   ]
  },
  {
   "cell_type": "markdown",
   "metadata": {
    "colab_type": "text",
    "id": "qp-hjUv4IWe-"
   },
   "source": [
    "## **Scatter plot of experimental vs. predicted LogS**"
   ]
  },
  {
   "cell_type": "code",
   "execution_count": 60,
   "metadata": {
    "colab": {},
    "colab_type": "code",
    "executionInfo": {
     "elapsed": 1620,
     "status": "ok",
     "timestamp": 1598440461987,
     "user": {
      "displayName": "Emon Returns",
      "photoUrl": "https://lh3.googleusercontent.com/a-/AOh14GjadExHTUqXI-S_HQCl0Xsm-fUD1-10lewUWP2r=s64",
      "userId": "12373052627599554892"
     },
     "user_tz": -360
    },
    "id": "hZDdRiPWIZbX"
   },
   "outputs": [],
   "source": [
    "import matplotlib.pyplot as plt"
   ]
  },
  {
   "cell_type": "markdown",
   "metadata": {
    "colab_type": "text",
    "id": "Q6bP41fKEY9O"
   },
   "source": [
    "### **Variable Dimensions of Train and Test sets**"
   ]
  },
  {
   "cell_type": "code",
   "execution_count": 61,
   "metadata": {
    "colab": {
     "base_uri": "https://localhost:8080/",
     "height": 34
    },
    "colab_type": "code",
    "executionInfo": {
     "elapsed": 1504,
     "status": "ok",
     "timestamp": 1598440465087,
     "user": {
      "displayName": "Emon Returns",
      "photoUrl": "https://lh3.googleusercontent.com/a-/AOh14GjadExHTUqXI-S_HQCl0Xsm-fUD1-10lewUWP2r=s64",
      "userId": "12373052627599554892"
     },
     "user_tz": -360
    },
    "id": "LA5dH5oiEUnP",
    "outputId": "d4c8e29e-6006-4510-f099-8a2c68d6f690"
   },
   "outputs": [
    {
     "data": {
      "text/plain": [
       "((915,), (915,))"
      ]
     },
     "execution_count": 61,
     "metadata": {
      "tags": []
     },
     "output_type": "execute_result"
    }
   ],
   "source": [
    "Y_train.shape, Y_pred_train.shape"
   ]
  },
  {
   "cell_type": "code",
   "execution_count": 62,
   "metadata": {
    "colab": {
     "base_uri": "https://localhost:8080/",
     "height": 34
    },
    "colab_type": "code",
    "executionInfo": {
     "elapsed": 2387,
     "status": "ok",
     "timestamp": 1598440468983,
     "user": {
      "displayName": "Emon Returns",
      "photoUrl": "https://lh3.googleusercontent.com/a-/AOh14GjadExHTUqXI-S_HQCl0Xsm-fUD1-10lewUWP2r=s64",
      "userId": "12373052627599554892"
     },
     "user_tz": -360
    },
    "id": "HIu7YbbFP-7o",
    "outputId": "add42936-0d89-41f8-b995-f4a922f59b3f"
   },
   "outputs": [
    {
     "data": {
      "text/plain": [
       "((229,), (229,))"
      ]
     },
     "execution_count": 62,
     "metadata": {
      "tags": []
     },
     "output_type": "execute_result"
    }
   ],
   "source": [
    "Y_test.shape, Y_pred_test.shape"
   ]
  },
  {
   "cell_type": "markdown",
   "metadata": {},
   "source": [
    " "
   ]
  },
  {
   "cell_type": "markdown",
   "metadata": {
    "colab_type": "text",
    "id": "OHqv3TlYa5qF"
   },
   "source": [
    "### **Vertical plot**"
   ]
  },
  {
   "cell_type": "code",
   "execution_count": 63,
   "metadata": {
    "colab": {
     "base_uri": "https://localhost:8080/",
     "height": 660
    },
    "colab_type": "code",
    "executionInfo": {
     "elapsed": 3372,
     "status": "ok",
     "timestamp": 1598440491336,
     "user": {
      "displayName": "Emon Returns",
      "photoUrl": "https://lh3.googleusercontent.com/a-/AOh14GjadExHTUqXI-S_HQCl0Xsm-fUD1-10lewUWP2r=s64",
      "userId": "12373052627599554892"
     },
     "user_tz": -360
    },
    "id": "shQPfrHIOmRD",
    "outputId": "5186d2bf-097e-4571-da7e-b02196eff3ba"
   },
   "outputs": [
    {
     "data": {
      "image/png": "[encoded data removed]",
      "text/plain": [
       "<Figure size 360x792 with 2 Axes>"
      ]
     },
     "metadata": {
      "needs_background": "light",
      "tags": []
     },
     "output_type": "display_data"
    }
   ],
   "source": [
    "plt.figure(figsize=(5,11))\n",
    "\n",
    "# 2 row, 1 column, plot 1\n",
    "plt.subplot(2, 1, 1)\n",
    "plt.scatter(x=Y_train, y=Y_pred_train, c=\"#7CAE00\", alpha=0.3)\n",
    "\n",
    "# trendline\n",
    "\n",
    "z = np.polyfit(Y_train, Y_pred_train, 1)\n",
    "p = np.poly1d(z)\n",
    "plt.plot(Y_test,p(Y_test),\"#F8766D\")\n",
    "\n",
    "plt.ylabel('Predicted LogS')\n",
    "\n",
    "\n",
    "# 2 row, 1 column, plot 2\n",
    "plt.subplot(2, 1, 2)\n",
    "plt.scatter(x=Y_test, y=Y_pred_test, c=\"#619CFF\", alpha=0.3)\n",
    "\n",
    "z = np.polyfit(Y_test, Y_pred_test, 1)\n",
    "p = np.poly1d(z)\n",
    "plt.plot(Y_test,p(Y_test),\"#F8766D\")\n",
    "\n",
    "plt.ylabel('Predicted LogS')\n",
    "plt.xlabel('Experimental LogS')\n",
    "\n",
    "plt.savefig('plot_vertical_logS.png')\n",
    "plt.savefig('plot_vertical_logS.pdf')\n",
    "plt.show()"
   ]
  },
  {
   "cell_type": "markdown",
   "metadata": {
    "colab_type": "text",
    "id": "PswCQ7Yra_CW"
   },
   "source": [
    "### **Horizontal plot**"
   ]
  },
  {
   "cell_type": "code",
   "execution_count": 64,
   "metadata": {
    "colab": {
     "base_uri": "https://localhost:8080/",
     "height": 334
    },
    "colab_type": "code",
    "executionInfo": {
     "elapsed": 3429,
     "status": "ok",
     "timestamp": 1598440501771,
     "user": {
      "displayName": "Emon Returns",
      "photoUrl": "https://lh3.googleusercontent.com/a-/AOh14GjadExHTUqXI-S_HQCl0Xsm-fUD1-10lewUWP2r=s64",
      "userId": "12373052627599554892"
     },
     "user_tz": -360
    },
    "id": "xG7NWEscT8QO",
    "outputId": "f1af62ba-0035-4293-eeba-23b4b889a81a"
   },
   "outputs": [
    {
     "data": {
      "image/png": "[encoded data removed]",
      "text/plain": [
       "<Figure size 792x360 with 2 Axes>"
      ]
     },
     "metadata": {
      "needs_background": "light",
      "tags": []
     },
     "output_type": "display_data"
    }
   ],
   "source": [
    "plt.figure(figsize=(11,5))\n",
    "\n",
    "# 1 row, 2 column, plot 1\n",
    "plt.subplot(1, 2, 1)\n",
    "plt.scatter(x=Y_train, y=Y_pred_train, c=\"#7CAE00\", alpha=0.3)\n",
    "\n",
    "z = np.polyfit(Y_train, Y_pred_train, 1)\n",
    "p = np.poly1d(z)\n",
    "plt.plot(Y_test,p(Y_test),\"#F8766D\")\n",
    "\n",
    "plt.ylabel('Predicted LogS')\n",
    "plt.xlabel('Experimental LogS')\n",
    "\n",
    "# 1 row, 2 column, plot 2\n",
    "plt.subplot(1, 2, 2)\n",
    "plt.scatter(x=Y_test, y=Y_pred_test, c=\"#619CFF\", alpha=0.3)\n",
    "\n",
    "z = np.polyfit(Y_test, Y_pred_test, 1)\n",
    "p = np.poly1d(z)\n",
    "plt.plot(Y_test,p(Y_test),\"#F8766D\")\n",
    "\n",
    "plt.xlabel('Experimental LogS')\n",
    "\n",
    "plt.savefig('plot_horizontal_logS.png')\n",
    "plt.savefig('plot_horizontal_logS.pdf')\n",
    "plt.show()"
   ]
  },
  {
   "cell_type": "markdown",
   "metadata": {},
   "source": [
    " "
   ]
  },
  {
   "cell_type": "markdown",
   "metadata": {},
   "source": [
    " "
   ]
  },
  {
   "cell_type": "markdown",
   "metadata": {},
   "source": [
    " "
   ]
  },
  {
   "cell_type": "markdown",
   "metadata": {},
   "source": [
    "##### As seen on the plot, the original solubility data points and my model's predicted solubility has condensed on the fitted line and has a linear relationship. \n",
    "\n",
    "- So, this model built on these 4 features, works well on predicts solubility of these compounds."
   ]
  },
  {
   "cell_type": "markdown",
   "metadata": {},
   "source": [
    " "
   ]
  },
  {
   "cell_type": "markdown",
   "metadata": {},
   "source": [
    " "
   ]
  },
  {
   "cell_type": "markdown",
   "metadata": {},
   "source": [
    "### My files"
   ]
  },
  {
   "cell_type": "markdown",
   "metadata": {},
   "source": [
    " "
   ]
  },
  {
   "cell_type": "code",
   "execution_count": 65,
   "metadata": {
    "colab": {
     "base_uri": "https://localhost:8080/",
     "height": 170
    },
    "colab_type": "code",
    "executionInfo": {
     "elapsed": 2086,
     "status": "ok",
     "timestamp": 1598440509242,
     "user": {
      "displayName": "Emon Returns",
      "photoUrl": "https://lh3.googleusercontent.com/a-/AOh14GjadExHTUqXI-S_HQCl0Xsm-fUD1-10lewUWP2r=s64",
      "userId": "12373052627599554892"
     },
     "user_tz": -360
    },
    "id": "WXn0vFThYYFT",
    "outputId": "d67ab960-cec9-4485-d910-3920b67393a3"
   },
   "outputs": [
    {
     "name": "stdout",
     "output_type": "stream",
     "text": [
      "total 83364\n",
      "-rw-r--r-- 1 root root    60034 Apr 22  2008 ci034243xsi20040112_053635.txt\n",
      "-rw-r--r-- 1 root root    58889 Aug 26 08:39 delaney.csv\n",
      "-rwxr-xr-x 1 root root 85055499 Mar 11 16:08 Miniconda3-py37_4.8.2-Linux-x86_64.sh\n",
      "-rw-r--r-- 1 root root    29874 Aug 26 11:15 plot_horizontal_logS.pdf\n",
      "-rw-r--r-- 1 root root    51817 Aug 26 11:15 plot_horizontal_logS.png\n",
      "-rw-r--r-- 1 root root    29825 Aug 26 11:14 plot_vertical_logS.pdf\n",
      "-rw-r--r-- 1 root root    53364 Aug 26 11:14 plot_vertical_logS.png\n",
      "drwxr-xr-x 1 root root     4096 Aug 24 16:35 sample_data\n"
     ]
    }
   ],
   "source": [
    "! ls -l"
   ]
  },
  {
   "cell_type": "markdown",
   "metadata": {
    "colab_type": "text",
    "id": "ARiv3f1iC565"
   },
   "source": [
    "---"
   ]
  },
  {
   "cell_type": "markdown",
   "metadata": {
    "colab_type": "text",
    "id": "jwM1QHeLbxJl"
   },
   "source": [
    "## **Reference**\n",
    "\n",
    "1. John S. Delaney. [ESOL:  Estimating Aqueous Solubility Directly from Molecular Structure](https://pubs.acs.org/doi/10.1021/ci034243x). ***J. Chem. Inf. Comput. Sci.*** 2004, 44, 3, 1000-1005.\n",
    "\n",
    "2. Pat Walters. [Predicting Aqueous Solubility - It's Harder Than It Looks](http://practicalcheminformatics.blogspot.com/2018/09/predicting-aqueous-solubility-its.html). ***Practical Cheminformatics Blog***\n"
   ]
  }
 ],
 "metadata": {
  "colab": {
   "collapsed_sections": [],
   "name": "Emon_cheminformtics.ipynb",
   "provenance": [
    {
     "file_id": "https://github.com/dataprofessor/code/blob/master/python/cheminformatics_predicting_solubility.ipynb",
     "timestamp": 1598425868995
    }
   ],
   "toc_visible": true
  },
  "kernelspec": {
   "display_name": "Python 3",
   "language": "python",
   "name": "python3"
  },
  "language_info": {
   "codemirror_mode": {
    "name": "ipython",
    "version": 3
   },
   "file_extension": ".py",
   "mimetype": "text/x-python",
   "name": "python",
   "nbconvert_exporter": "python",
   "pygments_lexer": "ipython3",
   "version": "3.7.6"
  }
 },
 "nbformat": 4,
 "nbformat_minor": 4
}
